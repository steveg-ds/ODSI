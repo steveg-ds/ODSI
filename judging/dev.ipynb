{
 "cells": [
  {
   "cell_type": "code",
   "execution_count": 1,
   "metadata": {},
   "outputs": [
    {
     "name": "stderr",
     "output_type": "stream",
     "text": [
      "2024-07-20 15:39:54,035 - AppLogger - INFO - MongoDB connection established.\n"
     ]
    }
   ],
   "source": [
    "from db import DB\n",
    "import pandas as pd\n",
    "\n",
    "import random\n",
    "db = DB()"
   ]
  },
  {
   "cell_type": "code",
   "execution_count": 2,
   "metadata": {},
   "outputs": [
    {
     "name": "stderr",
     "output_type": "stream",
     "text": [
      "2024-07-20 15:40:26,605 - AppLogger - ERROR - Error finding documents: db:27017: [Errno -2] Name or service not known (configured timeouts: socketTimeoutMS: 20000.0ms, connectTimeoutMS: 20000.0ms), Timeout: 30s, Topology Description: <TopologyDescription id: 669c209ab70d9502affba97d, topology_type: Unknown, servers: [<ServerDescription ('db', 27017) server_type: Unknown, rtt: None, error=AutoReconnect('db:27017: [Errno -2] Name or service not known (configured timeouts: socketTimeoutMS: 20000.0ms, connectTimeoutMS: 20000.0ms)')>]>\n"
     ]
    },
    {
     "data": {
      "text/plain": [
       "[]"
      ]
     },
     "execution_count": 2,
     "metadata": {},
     "output_type": "execute_result"
    }
   ],
   "source": [
    "db.find_documents(collection_name=\"Tournaments\")"
   ]
  },
  {
   "cell_type": "code",
   "execution_count": 3,
   "metadata": {},
   "outputs": [
    {
     "data": {
      "text/plain": [
       "[]"
      ]
     },
     "execution_count": 3,
     "metadata": {},
     "output_type": "execute_result"
    }
   ],
   "source": [
    "db.find_documents(collection_name=\"Users\")\n",
    "\n"
   ]
  },
  {
   "cell_type": "code",
   "execution_count": 12,
   "metadata": {},
   "outputs": [
    {
     "data": {
      "text/html": [
       "<div>\n",
       "<style scoped>\n",
       "    .dataframe tbody tr th:only-of-type {\n",
       "        vertical-align: middle;\n",
       "    }\n",
       "\n",
       "    .dataframe tbody tr th {\n",
       "        vertical-align: top;\n",
       "    }\n",
       "\n",
       "    .dataframe thead th {\n",
       "        text-align: right;\n",
       "    }\n",
       "</style>\n",
       "<table border=\"1\" class=\"dataframe\">\n",
       "  <thead>\n",
       "    <tr style=\"text-align: right;\">\n",
       "      <th></th>\n",
       "      <th>_id</th>\n",
       "      <th>username</th>\n",
       "      <th>email</th>\n",
       "      <th>password</th>\n",
       "      <th>firstname</th>\n",
       "      <th>lastname</th>\n",
       "      <th>school</th>\n",
       "    </tr>\n",
       "  </thead>\n",
       "  <tbody>\n",
       "    <tr>\n",
       "      <th>0</th>\n",
       "      <td>66945125dec355488d4b8af5</td>\n",
       "      <td>ecox</td>\n",
       "      <td>over.baked.potatoes.420@gmail.com</td>\n",
       "      <td>p@ssw0rd</td>\n",
       "      <td>Eli</td>\n",
       "      <td>Cox</td>\n",
       "      <td>NUS</td>\n",
       "    </tr>\n",
       "    <tr>\n",
       "      <th>1</th>\n",
       "      <td>66945125dec355488d4b8af6</td>\n",
       "      <td>hcox</td>\n",
       "      <td>over.baked.potatoes.420@gmail.com</td>\n",
       "      <td>p@ssw0rd</td>\n",
       "      <td>Henry</td>\n",
       "      <td>Cox</td>\n",
       "      <td>Edi</td>\n",
       "    </tr>\n",
       "    <tr>\n",
       "      <th>2</th>\n",
       "      <td>66945125dec355488d4b8af7</td>\n",
       "      <td>sprice</td>\n",
       "      <td>over.baked.potatoes.420@gmail.com</td>\n",
       "      <td>p@ssw0rd</td>\n",
       "      <td>Skylar</td>\n",
       "      <td>Price</td>\n",
       "      <td>Syd</td>\n",
       "    </tr>\n",
       "    <tr>\n",
       "      <th>3</th>\n",
       "      <td>66945125dec355488d4b8af8</td>\n",
       "      <td>bgray</td>\n",
       "      <td>over.baked.potatoes.420@gmail.com</td>\n",
       "      <td>p@ssw0rd</td>\n",
       "      <td>Brooklyn</td>\n",
       "      <td>Gray</td>\n",
       "      <td>Cph</td>\n",
       "    </tr>\n",
       "    <tr>\n",
       "      <th>4</th>\n",
       "      <td>66945125dec355488d4b8af9</td>\n",
       "      <td>janderson</td>\n",
       "      <td>over.baked.potatoes.420@gmail.com</td>\n",
       "      <td>p@ssw0rd</td>\n",
       "      <td>Jordan</td>\n",
       "      <td>Anderson</td>\n",
       "      <td>Chi</td>\n",
       "    </tr>\n",
       "    <tr>\n",
       "      <th>...</th>\n",
       "      <td>...</td>\n",
       "      <td>...</td>\n",
       "      <td>...</td>\n",
       "      <td>...</td>\n",
       "      <td>...</td>\n",
       "      <td>...</td>\n",
       "      <td>...</td>\n",
       "    </tr>\n",
       "    <tr>\n",
       "      <th>88</th>\n",
       "      <td>66945126dec355488d4b8b4d</td>\n",
       "      <td>wjames</td>\n",
       "      <td>over.baked.potatoes.420@gmail.com</td>\n",
       "      <td>p@ssw0rd</td>\n",
       "      <td>Wyatt</td>\n",
       "      <td>James</td>\n",
       "      <td>Edi</td>\n",
       "    </tr>\n",
       "    <tr>\n",
       "      <th>89</th>\n",
       "      <td>66945127dec355488d4b8b4e</td>\n",
       "      <td>ccox</td>\n",
       "      <td>over.baked.potatoes.420@gmail.com</td>\n",
       "      <td>p@ssw0rd</td>\n",
       "      <td>Charles</td>\n",
       "      <td>Cox</td>\n",
       "      <td>MIT</td>\n",
       "    </tr>\n",
       "    <tr>\n",
       "      <th>90</th>\n",
       "      <td>66945127dec355488d4b8b4f</td>\n",
       "      <td>amartinez</td>\n",
       "      <td>over.baked.potatoes.420@gmail.com</td>\n",
       "      <td>p@ssw0rd</td>\n",
       "      <td>Adrian</td>\n",
       "      <td>Martinez</td>\n",
       "      <td>UCD</td>\n",
       "    </tr>\n",
       "    <tr>\n",
       "      <th>91</th>\n",
       "      <td>6694515c13bead8bfc5827aa</td>\n",
       "      <td>amartinezsdf</td>\n",
       "      <td>over.baked.potatoes.420@gmail.com</td>\n",
       "      <td>p@ssw0rd</td>\n",
       "      <td>Adrianasd</td>\n",
       "      <td>Martinezsdf</td>\n",
       "      <td>UCD</td>\n",
       "    </tr>\n",
       "    <tr>\n",
       "      <th>92</th>\n",
       "      <td>669452c00ddc8c19acad156d</td>\n",
       "      <td>test</td>\n",
       "      <td>test@test.com</td>\n",
       "      <td>test123!</td>\n",
       "      <td>test</td>\n",
       "      <td>test</td>\n",
       "      <td>tes</td>\n",
       "    </tr>\n",
       "  </tbody>\n",
       "</table>\n",
       "<p>93 rows × 7 columns</p>\n",
       "</div>"
      ],
      "text/plain": [
       "                         _id      username                              email  \\\n",
       "0   66945125dec355488d4b8af5          ecox  over.baked.potatoes.420@gmail.com   \n",
       "1   66945125dec355488d4b8af6          hcox  over.baked.potatoes.420@gmail.com   \n",
       "2   66945125dec355488d4b8af7        sprice  over.baked.potatoes.420@gmail.com   \n",
       "3   66945125dec355488d4b8af8         bgray  over.baked.potatoes.420@gmail.com   \n",
       "4   66945125dec355488d4b8af9     janderson  over.baked.potatoes.420@gmail.com   \n",
       "..                       ...           ...                                ...   \n",
       "88  66945126dec355488d4b8b4d        wjames  over.baked.potatoes.420@gmail.com   \n",
       "89  66945127dec355488d4b8b4e          ccox  over.baked.potatoes.420@gmail.com   \n",
       "90  66945127dec355488d4b8b4f     amartinez  over.baked.potatoes.420@gmail.com   \n",
       "91  6694515c13bead8bfc5827aa  amartinezsdf  over.baked.potatoes.420@gmail.com   \n",
       "92  669452c00ddc8c19acad156d          test                      test@test.com   \n",
       "\n",
       "    password  firstname     lastname school  \n",
       "0   p@ssw0rd        Eli          Cox    NUS  \n",
       "1   p@ssw0rd      Henry          Cox    Edi  \n",
       "2   p@ssw0rd     Skylar        Price    Syd  \n",
       "3   p@ssw0rd   Brooklyn         Gray    Cph  \n",
       "4   p@ssw0rd     Jordan     Anderson    Chi  \n",
       "..       ...        ...          ...    ...  \n",
       "88  p@ssw0rd      Wyatt        James    Edi  \n",
       "89  p@ssw0rd    Charles          Cox    MIT  \n",
       "90  p@ssw0rd     Adrian     Martinez    UCD  \n",
       "91  p@ssw0rd  Adrianasd  Martinezsdf    UCD  \n",
       "92  test123!       test         test    tes  \n",
       "\n",
       "[93 rows x 7 columns]"
      ]
     },
     "execution_count": 12,
     "metadata": {},
     "output_type": "execute_result"
    }
   ],
   "source": [
    "x = pd.DataFrame(db.find_documents(collection_name=\"Users\"))\n",
    "x"
   ]
  },
  {
   "cell_type": "code",
   "execution_count": 4,
   "metadata": {},
   "outputs": [
    {
     "name": "stderr",
     "output_type": "stream",
     "text": [
      "2024-07-15 14:32:10,752 - AppLogger - INFO - Document found: 6695754b8ead85defb98a7d4\n"
     ]
    },
    {
     "data": {
      "text/html": [
       "<div>\n",
       "<style scoped>\n",
       "    .dataframe tbody tr th:only-of-type {\n",
       "        vertical-align: middle;\n",
       "    }\n",
       "\n",
       "    .dataframe tbody tr th {\n",
       "        vertical-align: top;\n",
       "    }\n",
       "\n",
       "    .dataframe thead th {\n",
       "        text-align: right;\n",
       "    }\n",
       "</style>\n",
       "<table border=\"1\" class=\"dataframe\">\n",
       "  <thead>\n",
       "    <tr style=\"text-align: right;\">\n",
       "      <th></th>\n",
       "      <th>First Name</th>\n",
       "      <th>Last Name</th>\n",
       "      <th>School</th>\n",
       "      <th>Email</th>\n",
       "      <th>ID</th>\n",
       "    </tr>\n",
       "  </thead>\n",
       "  <tbody>\n",
       "    <tr>\n",
       "      <th>6</th>\n",
       "      <td>William</td>\n",
       "      <td>Henderson</td>\n",
       "      <td>ETH</td>\n",
       "      <td>over.baked.potatoes.420@gmail.com</td>\n",
       "      <td>8</td>\n",
       "    </tr>\n",
       "    <tr>\n",
       "      <th>7</th>\n",
       "      <td>Skylar</td>\n",
       "      <td>Price</td>\n",
       "      <td>Syd</td>\n",
       "      <td>over.baked.potatoes.420@gmail.com</td>\n",
       "      <td>4</td>\n",
       "    </tr>\n",
       "    <tr>\n",
       "      <th>9</th>\n",
       "      <td>Benjamin</td>\n",
       "      <td>Roberts</td>\n",
       "      <td>Syd</td>\n",
       "      <td>over.baked.potatoes.420@gmail.com</td>\n",
       "      <td>12</td>\n",
       "    </tr>\n",
       "    <tr>\n",
       "      <th>17</th>\n",
       "      <td>Hannah</td>\n",
       "      <td>Parker</td>\n",
       "      <td>MIT</td>\n",
       "      <td>over.baked.potatoes.420@gmail.com</td>\n",
       "      <td>13</td>\n",
       "    </tr>\n",
       "    <tr>\n",
       "      <th>19</th>\n",
       "      <td>Victoria</td>\n",
       "      <td>Cook</td>\n",
       "      <td>UCD</td>\n",
       "      <td>over.baked.potatoes.420@gmail.com</td>\n",
       "      <td>20</td>\n",
       "    </tr>\n",
       "    <tr>\n",
       "      <th>21</th>\n",
       "      <td>Christian</td>\n",
       "      <td>Howard</td>\n",
       "      <td>UCLA</td>\n",
       "      <td>over.baked.potatoes.420@gmail.com</td>\n",
       "      <td>0</td>\n",
       "    </tr>\n",
       "    <tr>\n",
       "      <th>22</th>\n",
       "      <td>Anna</td>\n",
       "      <td>Peterson</td>\n",
       "      <td>UCLA</td>\n",
       "      <td>over.baked.potatoes.420@gmail.com</td>\n",
       "      <td>19</td>\n",
       "    </tr>\n",
       "  </tbody>\n",
       "</table>\n",
       "</div>"
      ],
      "text/plain": [
       "   First Name  Last Name School                              Email  ID\n",
       "6     William  Henderson    ETH  over.baked.potatoes.420@gmail.com   8\n",
       "7      Skylar      Price    Syd  over.baked.potatoes.420@gmail.com   4\n",
       "9    Benjamin    Roberts    Syd  over.baked.potatoes.420@gmail.com  12\n",
       "17     Hannah     Parker    MIT  over.baked.potatoes.420@gmail.com  13\n",
       "19   Victoria       Cook    UCD  over.baked.potatoes.420@gmail.com  20\n",
       "21  Christian     Howard   UCLA  over.baked.potatoes.420@gmail.com   0\n",
       "22       Anna   Peterson   UCLA  over.baked.potatoes.420@gmail.com  19"
      ]
     },
     "execution_count": 4,
     "metadata": {},
     "output_type": "execute_result"
    }
   ],
   "source": [
    "# TODO: figure out how to get list of judges for the active round\n",
    "\n",
    "data = db.find_one_document(collection_name='Tournaments', query={\"Tournament Name\": \"Test Tournament\"})\n",
    "\n",
    "active_round = data['Active Round']\n",
    "active_round = \"Round 1\"\n",
    "judges = pd.DataFrame(data['Judges'])\n",
    "\n",
    "judge_ids = data['Tournament']['Novice'][active_round]['Judge_ID']\n",
    "\n",
    "judges = judges[judges['ID'].isin(judge_ids)]\n",
    "judges = judges.dropna() # drop NA so only judges with email addresses are considered\n",
    "\n",
    "judges\n"
   ]
  },
  {
   "cell_type": "code",
   "execution_count": 6,
   "metadata": {},
   "outputs": [
    {
     "data": {
      "text/plain": [
       "[{'_id': ObjectId('66959bafed63b1b0daf21fc4'),\n",
       "  'Resolution': 'resolution',\n",
       "  'Affirmative Speaks': 'Speaker Points: 24',\n",
       "  'Affirmative Comments': 'aff comments',\n",
       "  'Negative Speaks': 'Speaker Points: 24',\n",
       "  'Negative Comments': 'aff comments',\n",
       "  'Competitor Name': 'UWA Washingto',\n",
       "  'Competitor School': 'UWA',\n",
       "  'Tabula Rasa Checklist': [True],\n",
       "  'Judge Name': 'ETH Henderson',\n",
       "  'Judge School': 'ETH',\n",
       "  'Reason for Decision': 'asdf',\n",
       "  'Winning Side': 'Affirmative'},\n",
       " {'_id': ObjectId('66959bb5ed63b1b0daf21fc5'),\n",
       "  'Resolution': 'resolution',\n",
       "  'Affirmative Speaks': 'Speaker Points: 24',\n",
       "  'Affirmative Comments': 'aff comments',\n",
       "  'Negative Speaks': 'Speaker Points: 24',\n",
       "  'Negative Comments': 'aff comments',\n",
       "  'Competitor Name': 'UWA Washington',\n",
       "  'Competitor School': 'UWAd',\n",
       "  'Tabula Rasa Checklist': [True],\n",
       "  'Judge Name': 'ETH Henderson',\n",
       "  'Judge School': 'ETH',\n",
       "  'Reason for Decision': 'asdf',\n",
       "  'Winning Side': 'Affirmative'},\n",
       " {'_id': ObjectId('66959bd9ed63b1b0daf21fc6'),\n",
       "  'Resolution': 'resolution',\n",
       "  'Affirmative Speaks': 'Speaker Points: 24',\n",
       "  'Affirmative Comments': 'aff comments',\n",
       "  'Negative Speaks': 'Speaker Points: 24',\n",
       "  'Negative Comments': 'aff comments',\n",
       "  'Competitor Name': 'UWA Washington',\n",
       "  'Competitor School': 'UWAd',\n",
       "  'Tabula Rasa Checklist': [True],\n",
       "  'Judge Name': 'ETH Henderson',\n",
       "  'Judge School': 'ETH',\n",
       "  'Reason for Decision': 'asdf',\n",
       "  'Winning Side': 'Affirmative'},\n",
       " {'_id': ObjectId('6695a929e9aed7a2c5af3623'),\n",
       "  'Resolution': '',\n",
       "  'Affirmative Speaks': 'AFFIRMATIVE (Speaker Points)',\n",
       "  'Affirmative Comments': '',\n",
       "  'Negative Speaks': 'NEGATIVE (Speaker Points)',\n",
       "  'Negative Comments': '',\n",
       "  'Competitor Name': '',\n",
       "  'Competitor School': '',\n",
       "  'Tabula Rasa Checklist': False,\n",
       "  'Judge Name': '',\n",
       "  'Judge School': '',\n",
       "  'Reason for Decision': '',\n",
       "  'Winning Side': None},\n",
       " {'_id': ObjectId('6695aa4a6d4b8d53d4821ea6'),\n",
       "  'Resolution': 'resolution',\n",
       "  'Affirmative Speaks': 'Speaker Points: 28',\n",
       "  'Affirmative Comments': 'aff comments',\n",
       "  'Negative Speaks': 'Speaker Points: 27',\n",
       "  'Negative Comments': 'neg comments',\n",
       "  'Competitor Name': 'ANU Patterson',\n",
       "  'Competitor School': 'ANU',\n",
       "  'Tabula Rasa Checklist': [True],\n",
       "  'Judge Name': 'ETH Henderson',\n",
       "  'Judge School': 'ETH',\n",
       "  'Reason for Decision': 'RFD',\n",
       "  'Winning Side': 'Negative'},\n",
       " {'_id': ObjectId('6695aae7489ed9f537f40834'),\n",
       "  'Resolution': 'resolution',\n",
       "  'Affirmative Speaks': 23,\n",
       "  'Affirmative Comments': 'aff comments',\n",
       "  'Negative Speaks': 25,\n",
       "  'Negative Comments': 'neg comments',\n",
       "  'Competitor Name': 'UWA Washington',\n",
       "  'Competitor School': 'UWA',\n",
       "  'Tabula Rasa Checklist': [True],\n",
       "  'Judge Name': 'ETH Henderson',\n",
       "  'Judge School': 'ETH',\n",
       "  'Reason for Decision': 'RFD',\n",
       "  'Winning Side': 'Affirmative'}]"
      ]
     },
     "execution_count": 6,
     "metadata": {},
     "output_type": "execute_result"
    }
   ],
   "source": [
    "\n",
    "db.find_documents(collection_name=\"Ballots\")"
   ]
  },
  {
   "cell_type": "code",
   "execution_count": 7,
   "metadata": {},
   "outputs": [
    {
     "name": "stderr",
     "output_type": "stream",
     "text": [
      "2024-07-06 14:54:16,432 - AppLogger - INFO - Collection 'Tournaments' truncated successfully.\n"
     ]
    }
   ],
   "source": [
    "db.truncate_collection(collection_name=\"Tournaments\")"
   ]
  },
  {
   "cell_type": "code",
   "execution_count": 11,
   "metadata": {},
   "outputs": [
    {
     "name": "stderr",
     "output_type": "stream",
     "text": [
      "2024-07-14 17:28:49,304 - AppLogger - INFO - Collection 'Users' truncated successfully.\n"
     ]
    }
   ],
   "source": [
    "db.truncate_collection(collection_name=\"Users\")"
   ]
  },
  {
   "cell_type": "code",
   "execution_count": 7,
   "metadata": {},
   "outputs": [],
   "source": [
    "data = { 'username': 'Test', 'email': 'Test@test.com', 'password': 'cheese14', 'firstname': 'Test', 'lastname': 'Test', 'school': 'Test'}"
   ]
  },
  {
   "cell_type": "code",
   "execution_count": null,
   "metadata": {},
   "outputs": [],
   "source": []
  }
 ],
 "metadata": {
  "kernelspec": {
   "display_name": ".venv",
   "language": "python",
   "name": "python3"
  },
  "language_info": {
   "codemirror_mode": {
    "name": "ipython",
    "version": 3
   },
   "file_extension": ".py",
   "mimetype": "text/x-python",
   "name": "python",
   "nbconvert_exporter": "python",
   "pygments_lexer": "ipython3",
   "version": "3.10.12"
  }
 },
 "nbformat": 4,
 "nbformat_minor": 2
}
